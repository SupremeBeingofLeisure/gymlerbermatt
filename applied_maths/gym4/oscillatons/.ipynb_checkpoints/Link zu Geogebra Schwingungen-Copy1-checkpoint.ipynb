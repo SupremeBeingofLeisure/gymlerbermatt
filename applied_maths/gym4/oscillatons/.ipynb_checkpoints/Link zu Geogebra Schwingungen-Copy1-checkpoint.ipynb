{
 "cells": [
  {
   "cell_type": "markdown",
   "metadata": {
    "id": "fTqyrhmw1OVD"
   },
   "source": [
    "## Simulation einer gedämpften Schwingung mit externem Antrieb"
   ]
  },
  {
   "cell_type": "code",
   "execution_count": 1,
   "metadata": {
    "colab": {
     "base_uri": "https://localhost:8080/",
     "height": 621
    },
    "executionInfo": {
     "elapsed": 1074,
     "status": "ok",
     "timestamp": 1603194878140,
     "user": {
      "displayName": "Jorma Wassmer",
      "photoUrl": "https://lh3.googleusercontent.com/a-/AOh14GicnoLO7ypM-J5G_qkZReVwkCPntq8T4goCzLGxbQ=s64",
      "userId": "12266857665954790658"
     },
     "user_tz": -120
    },
    "id": "wAd1jlTO1Qyg",
    "outputId": "0daf03ac-1106-4b79-8bb1-45e3a0cddb45"
   },
   "outputs": [
    {
     "data": {
      "text/html": [
       "\n",
       "        <iframe\n",
       "            width=\"800\"\n",
       "            height=\"600\"\n",
       "            src=\"https://www.geogebra.org/m/prjdenp4\"\n",
       "            frameborder=\"0\"\n",
       "            allowfullscreen\n",
       "        ></iframe>\n",
       "        "
      ],
      "text/plain": [
       "<IPython.lib.display.IFrame at 0x168f0985448>"
      ]
     },
     "execution_count": 1,
     "metadata": {},
     "output_type": "execute_result"
    }
   ],
   "source": [
    "from IPython.display import IFrame\n",
    "\n",
    "IFrame(\"https://www.geogebra.org/m/prjdenp4\",800,600)\n",
    "# Drück den roten Link um zum dynamischen Geogebra sheet geführt zu werden."
   ]
  },
  {
   "cell_type": "code",
   "execution_count": null,
   "metadata": {
    "id": "cw7fct7h2q1f"
   },
   "outputs": [],
   "source": []
  }
 ],
 "metadata": {
  "colab": {
   "authorship_tag": "ABX9TyNgFLz1Y1To0L6zBwx8jMgd",
   "collapsed_sections": [],
   "name": "Kopie von Kopie von Untitled1.ipynb",
   "provenance": [
    {
     "file_id": "1knzzXlKHw3AnLTczlq7A9PKQpFy8Yb7Q",
     "timestamp": 1603195113896
    },
    {
     "file_id": "1PyTI4MElaKr9TLZBAg8IwKvu8zwh4ytZ",
     "timestamp": 1603194900774
    }
   ]
  },
  "kernelspec": {
   "display_name": "Python 3",
   "language": "python",
   "name": "python3"
  },
  "language_info": {
   "codemirror_mode": {
    "name": "ipython",
    "version": 3
   },
   "file_extension": ".py",
   "mimetype": "text/x-python",
   "name": "python",
   "nbconvert_exporter": "python",
   "pygments_lexer": "ipython3",
   "version": "3.7.7"
  }
 },
 "nbformat": 4,
 "nbformat_minor": 1
}
