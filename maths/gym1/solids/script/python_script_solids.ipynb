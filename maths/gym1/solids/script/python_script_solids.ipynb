{
 "cells": [
  {
   "cell_type": "markdown",
   "metadata": {},
   "source": [
    "# Flächen und Volumina\n",
    "\n",
    "## Begriffe und Konventionen\n",
    "\n",
    "Mit **Fläche** bezeichnen wir eine zweidimensionale Figur mit endlichem Inhalt. Der Begriff der Fläche ist daher vom Begriff der **Ebene** zu unterscheiden, denn letztere ist nicht begrenzt. Im Dreidimensionalen heissen die Pendants **Körper** bzw. **Raum**. Beachtet aber auch, dass die Begriffe Körper und Raum in der \"richtigen\" Mathematik eigentlich bereits von anderen Sachverhalten belegt sind. Wie üblich werden Punkte mit lateinischen Grossbuchstaben, 2D Objekte mit lateinischen Kleinbuchstaben und 3D Objekte wiederum mit lateinischen Grossbuchstaben bezeichnet. Beide, Flächen und Volumen, werden häufig mit Grossbuchstaben bezeichnet. Dies hat seine Motivation in der Analysis und ich möchte an dieser Stelle nicht darauf eingehen. Für die Notation von Winkeln sind griechische Kleinbuchstaben üblich. Gegen den Uhrzeigersinn gemessene Winkel werden positiv dotiert. Ich gehe davon aus, dass ihr den Satz von Pythagoras kennt. Mit einem kleinen Beweis findet ihr den [Satz von Pythagoras auf meinem Kanal gym math](https://youtu.be/2hY8wIjum40).\n",
    "\n",
    "Im Verlaufe des Skripts werde ich mit der Fachsprache etwas schlampiger umgehen. Dies hat den Vorteil, dass Sätze weniger lang und aufgeblasen daher kommen. Meist sollte klar sein, wovon ich spreche.\n",
    "\n",
    "## Elementare geometrische Figuren\n",
    "\n",
    "Zu den wichtigen Bausteinen gehören der Kreis und das Dreieck. Jedes Viereck oder sogar **Polygon** kann nach Bedarf --- mit etwas Geschick --- in Dreiecke zerlegt werden. Für \"spezielle\" Vierecke stellt man aber bisweilen auch Formeln bereit, um deren Flächen auszurechnen.\n",
    "\n",
    "### Bekannte Flächenformeln\n",
    "\n",
    "Eine spezielle 1D-Länge ist der Umfang eines Kreises. Daher wird er hier separat noch aufgeführt. Ein Kreis mit Radius $r$ hat den Umfang:\n",
    "\n",
    "$$U=2\\pi r.$$\n",
    "\n",
    "Wir gucken uns zuerst diverse Flächen an.\n",
    "\n",
    "_Übung_ : Welche Formeln zur Berechnung der Fläche einer Figur kennst du bereits? Skizziere und notiere!\n",
    "\n",
    "In obiger Übung sollten dabei sein:\n",
    "\n",
    "* Kreisfläche $A_K$ eines Kreises $K$ mit Radius $r$:\n",
    "    \n",
    "$$A_K=\\pi\\cdot r^2$$\n",
    "    \n",
    "* Fläche eines Dreiecks mit den üblichen Bezeichnungen:\n",
    "    \n",
    "$$A_D=\\frac{1}{2}ah_a$$\n",
    "    \n",
    "* Fläche eines Rechtecks mit Seiten $a$ und $b$:\n",
    "    \n",
    "$$A_R=a\\cdot b$$\n",
    "\n",
    "### Bekannte Volumenformeln\n",
    "\n",
    "Diese werde für einige von euch vielleicht neu sein. Ich bin mir aber sicher, dass ihr die eine oder andere Volumenformel bereits kennt.\n",
    "\n",
    "_Übung_ : Welche Formeln zur Berechnung des Volumens einer Figur kennst du bereits? Skizziere und notiere!\n",
    "\n",
    "Sicher kann man das Volumen eines Quaders angegeben:\n",
    "\n",
    "* Volumen eines Quaders mit Kantenlängen $a,b,c$:\n",
    "\n",
    "$$V_Q=abc$$\n",
    "\n",
    "Etwas weniger bekannt, aber immer noch relativ berühmt sind:\n",
    "\n",
    "* Volumen einer Pyramide mit Grundfläche $G$ und Höhe $h$:\n",
    "\n",
    "$$V_P=\\frac{1}{3}Gh$$\n",
    "\n",
    "* Volumen einer Kugel mit Radius $r$:\n",
    "\n",
    "$$V_B=\\frac{4\\pi}{3}r^3$$\n",
    "\n",
    "_Übung_ : Mach den Einheitencheck, d.h. gucke rechts des Gleichheitszeichen jeweils die richtige Einheit steht.\n",
    "\n",
    "## Volumenformeln\n",
    "\n",
    "### Bemerkung\n",
    "\n",
    "In der Literatur und anderswo wird gegebenenfalls etwa noch zwischen _geraden_ und _schiefen_ Pyramiden etc. unterschieden. Wir werden in Kürze einsehen, dass es reicht, sich mit den Formeln für gerade Figuren zu beschäftigen.\n",
    "\n",
    "### Das Prinzip von Cavalieri\n",
    "\n",
    "Unter anderem gibt das **Prinzip von Cavalieri** eine Möglichkeit, da Volumen von kompliziert strukturierten Körpern zu bestimmen. [Wikipedia sagt ...](https://de.wikipedia.org/wiki/Prinzip_von_Cavalieri)\n",
    "\n",
    "> Zwei Körper besitzen dasselbe Volumen, wenn alle ihre Schnittflächen in Ebenen parallel zu einer Grundebene in gleichen Höhen den gleichen Flächeninhalt haben.\n",
    "\n",
    "Eine erste, nette Veranschaulichung in Geogebra gibts hier:"
   ]
  },
  {
   "cell_type": "code",
   "execution_count": 1,
   "metadata": {
    "scrolled": false
   },
   "outputs": [
    {
     "data": {
      "text/html": [
       "\n",
       "        <iframe\n",
       "            width=\"900\"\n",
       "            height=\"500\"\n",
       "            src=\"https://www.geogebra.org/m/y3gMAYbC#material/r6yKgffu\"\n",
       "            frameborder=\"0\"\n",
       "            allowfullscreen\n",
       "        ></iframe>\n",
       "        "
      ],
      "text/plain": [
       "<IPython.lib.display.IFrame at 0x7fe101483050>"
      ]
     },
     "execution_count": 1,
     "metadata": {},
     "output_type": "execute_result"
    }
   ],
   "source": [
    "from IPython.display import IFrame\n",
    "\n",
    "IFrame(\"https://www.geogebra.org/m/y3gMAYbC#material/r6yKgffu\",900,500)\n",
    "# Drück den roten Link um zum dynamischen Geogebra sheet geführt zu werden."
   ]
  },
  {
   "cell_type": "markdown",
   "metadata": {},
   "source": [
    "Ich denke, dass die Visualisierung reicht, um das Prinzip von Cavalieri ohne strengen Beweis zu akzeptieren.\n",
    "\n",
    "Ebenfalls von der selben Autorin wie die Visualisierung oben stammt folgende, kleine _Übung_ :"
   ]
  },
  {
   "cell_type": "code",
   "execution_count": 2,
   "metadata": {},
   "outputs": [
    {
     "data": {
      "text/html": [
       "\n",
       "        <iframe\n",
       "            width=\"900\"\n",
       "            height=\"500\"\n",
       "            src=\"https://www.geogebra.org/m/y3gMAYbC#material/W9hf8qwn\"\n",
       "            frameborder=\"0\"\n",
       "            allowfullscreen\n",
       "        ></iframe>\n",
       "        "
      ],
      "text/plain": [
       "<IPython.lib.display.IFrame at 0x7fe101483f90>"
      ]
     },
     "execution_count": 2,
     "metadata": {},
     "output_type": "execute_result"
    }
   ],
   "source": [
    "IFrame(\"https://www.geogebra.org/m/y3gMAYbC#material/W9hf8qwn\",900,500)\n",
    "# Drück den roten Link um zum dynamischen Geogebra sheet geführt zu werden."
   ]
  },
  {
   "cell_type": "markdown",
   "metadata": {},
   "source": [
    "Mit dem Prinzip von Cavalieri im Köcher können wir nun die folgenden, anspruchsvolleren Volumenformeln begründen. Ferner hat diese Übung auch gezeigt, dass insbesondere ein gerader und ein schiefer Zylinder dasselbe Volumen haben, wenn eben die parallelen Schnitte in jeder Höhe übereinstimmen."
   ]
  },
  {
   "cell_type": "markdown",
   "metadata": {},
   "source": [
    "### Volumen von Pyramiden\n",
    "\n",
    "Die Volumenformel einer Pyramide mit Grundfläche $G$ und Höhe $h$ ist\n",
    "\n",
    "$$V_P=\\frac{1}{3}Gh\\,?$$\n",
    "\n",
    "Klar ist, dass das Volumen kleiner als $Gh$ ist; wie aber kommt man auf den Faktor $\\frac{1}{3}$? Darauf kann man kommen, wenn man sich beispielsweise einen Würfel skizziert und ihn mit einer Pyramide vergleicht.\n",
    "\n",
    "_Übung_ : Skizziere einen Würfel. Verbinde jeweils nun mit Kanten jede der 3 Rissflächen so, dass Pyramiden mit quadratischer Grundfläche entstehen. Wie viele Pyramiden passen so in einen Würfel?\n",
    "\n",
    "Wir haben also gesehen, dass dies vielleicht so aussehen könnte:"
   ]
  },
  {
   "cell_type": "code",
   "execution_count": 3,
   "metadata": {},
   "outputs": [
    {
     "data": {
      "text/latex": [
       "\\begin{center}\n",
       "    %\\fbox{\n",
       "    \\includegraphics[trim=2.5cm 18cm 2.5cm 4cm, clip, width=\\linewidth]{pictures/cavalieriprinzip.pdf}%}\n",
       "\\end{center}\n"
      ],
      "text/plain": [
       "<IPython.core.display.Latex object>"
      ]
     },
     "metadata": {},
     "output_type": "display_data"
    }
   ],
   "source": [
    "%%latex\n",
    "\\begin{center}\n",
    "    %\\fbox{\n",
    "    \\includegraphics[trim=2.5cm 18cm 2.5cm 4cm, clip, width=\\linewidth]{pictures/cavalieriprinzip.pdf}%}\n",
    "\\end{center}"
   ]
  },
  {
   "cell_type": "markdown",
   "metadata": {},
   "source": [
    "Vielleicht ist für einige die [Aufteilung des Würfels in 6 kongruente Teilpyramiden](https://youtu.be/68XWX1bv4-I) aufschlussreicher.\n",
    "\n",
    "Man überlegt sich nun, dass man natürlich zu jeder Pyramide einen entsprechenden Quader mit gleichem Volumen basteln kann. Wenn man lieber gerade Pyramiden anschaut, so kann man ein Würfelvolumen auch so zerlegen, dass man jeweils eine Seite als Grundfläche nimmt und den Spitz in der Würfelmitte plaziert. Eine solche Pyramide wird dann mit einem Quader verglichen, dessen Volumen grad ein halbes Würfelvolumen beträgt.\n",
    "\n",
    "_Übung_ : In wie viele Pyramiden wird dann ein Würfel mit Kantenlägen $k$ zerlegt? Rechne nach.\n",
    "\n",
    "### Volumen von Kreiskegeln\n",
    "\n",
    "_Übung_ : Begründe, dass wegen obiger Übung für das Volumen eines Kreiskegels mit Radius $r$ und Höhe $h$ folgt:\n",
    "\n",
    "$$V_{Ke}=\\frac{1}{3}\\pi r^2h.$$\n",
    "\n",
    "### Volumen einer Kugel\n",
    "\n",
    "Jetzt kommen wir zum König der Körper, der Kugel. Fact:\n",
    "\n",
    "> Von allen konvexen Formen, die ein gegebenes Volumen umhüllen, hat die Kugel die kleinste Oberfläche.\n",
    "\n",
    "Wie findet man die [Volumenformel für eine Kugel](https://youtu.be/GZBoETe-Cb0) mit Radius $r$? Mit einer schönen Überlegung und dem Prinzip von Cavalieri ist es möglich, diese Formel herzuleiten. Wir kennen die Volumenformel für einen geraden Zylinder mit Höhe $h$ und Radius $r$,\n",
    "\n",
    "$$V_Z=\\pi r^2h,$$\n",
    "\n",
    "und für einen geraden Kegel,\n",
    "\n",
    "$$V_{Ke}=\\frac{1}{3}\\pi r^2h.$$\n",
    "\n",
    "Jetzt betrachtet man eine Halbkugel mit Radius $r$, deren Volumen $V_K$ wir suchen, und daneben einen Kreiszylinder mit ausgefrästem Kegel. Das sieht bei einer ganzen Kugel vielleicht so aus:"
   ]
  },
  {
   "cell_type": "code",
   "execution_count": 4,
   "metadata": {},
   "outputs": [
    {
     "data": {
      "text/html": [
       "\n",
       "        <iframe\n",
       "            width=\"900\"\n",
       "            height=\"500\"\n",
       "            src=\"https://www.geogebra.org/m/y3gMAYbC#material/SDC9peT9\"\n",
       "            frameborder=\"0\"\n",
       "            allowfullscreen\n",
       "        ></iframe>\n",
       "        "
      ],
      "text/plain": [
       "<IPython.lib.display.IFrame at 0x7fe101483bd0>"
      ]
     },
     "execution_count": 4,
     "metadata": {},
     "output_type": "execute_result"
    }
   ],
   "source": [
    "IFrame(\"https://www.geogebra.org/m/y3gMAYbC#material/SDC9peT9\",900,500)"
   ]
  },
  {
   "cell_type": "markdown",
   "metadata": {},
   "source": [
    "Eine halbe Kugel ist zum Rechnen aber übersichtlicher. Die ganze Kugel erhalten wir dann einfach durch Verdoppelung des Halbkugelvolumens. Los gehts."
   ]
  },
  {
   "cell_type": "code",
   "execution_count": 5,
   "metadata": {},
   "outputs": [
    {
     "data": {
      "text/latex": [
       "\\begin{center}\n",
       "    %\\fbox{\n",
       "    \\includegraphics[trim=2.5cm 2.5cm 2.5cm 14cm, clip, width=\\linewidth]{pictures/cavalieriprinzip.pdf}\n",
       "    \\includegraphics[page=2, trim=2.5cm 2.5cm 2.5cm 2.5cm, clip, width=\\linewidth]{pictures/cavalieriprinzip.pdf}%}\n",
       "\\end{center}\n"
      ],
      "text/plain": [
       "<IPython.core.display.Latex object>"
      ]
     },
     "metadata": {},
     "output_type": "display_data"
    }
   ],
   "source": [
    "%%latex\n",
    "\\begin{center}\n",
    "    %\\fbox{\n",
    "    \\includegraphics[trim=2.5cm 2.5cm 2.5cm 14cm, clip, width=\\linewidth]{pictures/cavalieriprinzip.pdf}\n",
    "    \\includegraphics[page=2, trim=2.5cm 2.5cm 2.5cm 2.5cm, clip, width=\\linewidth]{pictures/cavalieriprinzip.pdf}%}\n",
    "\\end{center}"
   ]
  },
  {
   "cell_type": "markdown",
   "metadata": {},
   "source": [
    "## Polyeder\n",
    "\n",
    "Bekanntlich heisst _poly_ viel und _gon_ Ecke; _eder_ bedeutet Fläche. In diesem Abschnitt soll es um ganz spezielle Vielflächner gehen, die sogenannten **platonischen Körper** ; Sie sind die konvexen, regulären Polyeder. Ein Polyeder heisst **konvex** , falls zu je zwei Punkten auf der Oberfläche die Verbindungsstrecke vollständig innerhalb des Polyeders verläuft. Ein Polyeder heisst **regulär** , falls die Seitenflächen regelmässige, zueinander kongruente Vielecke sind und in allen Ecken gleich viele davon aufeinander treffen. Ok, ich behelfe mir bei Definitionen meist so, dass ich mir zuerst versuche ein Bild zu organisieren. Das folgende habe ich von [Wikipedia Polyeder](https://de.wikipedia.org/wiki/Polyeder) ."
   ]
  },
  {
   "cell_type": "code",
   "execution_count": 6,
   "metadata": {},
   "outputs": [
    {
     "data": {
      "text/latex": [
       "\\begin{center}\n",
       "    %\\fbox{\n",
       "    \\includegraphics[width=\\linewidth]{pictures/blueplatonicdice.jpg}%}\n",
       "\\end{center}\n"
      ],
      "text/plain": [
       "<IPython.core.display.Latex object>"
      ]
     },
     "metadata": {},
     "output_type": "display_data"
    }
   ],
   "source": [
    "%%latex\n",
    "\\begin{center}\n",
    "    %\\fbox{\n",
    "    \\includegraphics[width=\\linewidth]{pictures/blueplatonicdice.jpg}%}\n",
    "\\end{center}"
   ]
  },
  {
   "cell_type": "markdown",
   "metadata": {},
   "source": [
    "Auf dieser Site gibt es noch unzählige, illustrativere Bilder von Polyedern. Hier aber haben wir grad alle 5 platonischen Körper. Von links nach rechts: Tetraeder, Würfel, Oktaeder, Dodekaeder, Ikosaeder. Die Präfixe geben jeweils an, wie viele von den Flächen der Körper hat.\n",
    "\n",
    "_Übung_ : Suche nach Argumenten, dass es just diese 5 platonischen Körper --- und keine weiteren --- gibt. Hint: Verwende die Tatsachen, dass es sich um regelmässige $n$-Ecke handelt, und dass sie einen Polyeder formen müssen.\n",
    "\n",
    "### Platonische Körper als erste Idee eines Elementarteilchens\n",
    "\n",
    "Schön finde ich, dass Platon, der Entdecker der platonischen Körper --- hence the name ---, so was wie eine Idee von kleinsten Materieteilchen hatte. Er stellte sich das Universum mit eben diesen Körper als \"Atome\" vor. Dazu gibts das [Video _Platonische Körper_](https://youtu.be/2gZnOUmQ1G8) ."
   ]
  },
  {
   "cell_type": "code",
   "execution_count": 7,
   "metadata": {},
   "outputs": [
    {
     "data": {
      "text/latex": [
       "\\begin{center}\n",
       "    %\\fbox{\n",
       "    \\includegraphics[width=\\linewidth]{pictures/elements.jpg}%}\n",
       "\\end{center}\n"
      ],
      "text/plain": [
       "<IPython.core.display.Latex object>"
      ]
     },
     "metadata": {},
     "output_type": "display_data"
    }
   ],
   "source": [
    "%%latex\n",
    "\\begin{center}\n",
    "    %\\fbox{\n",
    "    \\includegraphics[width=\\linewidth]{pictures/elements.jpg}%}\n",
    "\\end{center}"
   ]
  },
  {
   "cell_type": "markdown",
   "metadata": {},
   "source": [
    "## Der Euler'sche Polyedersatz\n",
    "\n",
    "So, now hold on to your hats. Der berühmte und produktive Schweizer Mathematiker Leonard Euler hat bei konvexen Polyeder folgenden Zusammenhang entdeckt.\n",
    "\n",
    "> Seien $E$ die Anzahl der Ecken, $K$ die Anzahl der Kanten und $F$ die Anzahl der Flächen eines beschränkten konvexen Polyeders, dann gilt:\n",
    "\n",
    "$$E-K+F=2.$$\n",
    "\n",
    "Wunderschön! Einen möglichen, sehr eleganten Beweis findet man in meinem Skript _Stereometrie_ ; [andere auf Wikipedia](https://de.wikipedia.org/wiki/Eulerscher_Polyedersatz#Ein_klassischer_Beweis) .\n",
    "\n",
    "_Übung_ : Erstelle eine Liste der Ecken-, Kanten- und Flächenzahlen der platonischen Körper und überprüfe, ob tatsächlich immer Ecken minus Kanten plus Flächen den Wert 2 ergibt."
   ]
  }
 ],
 "metadata": {
  "kernelspec": {
   "display_name": "Python 3",
   "language": "python",
   "name": "python3"
  },
  "language_info": {
   "codemirror_mode": {
    "name": "ipython",
    "version": 3
   },
   "file_extension": ".py",
   "mimetype": "text/x-python",
   "name": "python",
   "nbconvert_exporter": "python",
   "pygments_lexer": "ipython3",
   "version": "3.7.7"
  }
 },
 "nbformat": 4,
 "nbformat_minor": 4
}
